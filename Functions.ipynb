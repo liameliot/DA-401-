{
 "cells": [
  {
   "cell_type": "markdown",
   "id": "63402b4b-a0a9-48e0-aab2-2d8e49c36a32",
   "metadata": {},
   "source": [
    "# Simulation Design"
   ]
  },
  {
   "cell_type": "markdown",
   "id": "870b1f30-fb56-42c9-9e7d-00b1bbbf07b3",
   "metadata": {
    "tags": []
   },
   "source": [
    "#### This is the base file that:\n",
    "- sets tiers\n",
    "- sims each matchup\n",
    "- simulates a single season\n",
    "\n",
    "\n",
    "\n",
    "#### The functions in this file control\n",
    "- the randomness of matchup win percentage\n",
    "- changes in ELO after a win / loss\n",
    "- which teams play eachother\n"
   ]
  },
  {
   "cell_type": "code",
   "execution_count": 2,
   "id": "30b69932-73cc-4984-8889-e6d9b401f640",
   "metadata": {},
   "outputs": [
    {
     "name": "stdout",
     "output_type": "stream",
     "text": [
      "/Users/liameliot/Documents/DA 401/CFB\n"
     ]
    }
   ],
   "source": [
    "import os\n",
    "print(os.getcwd())"
   ]
  },
  {
   "cell_type": "code",
   "execution_count": 10,
   "id": "caf9cbbe-1d8b-40c1-903d-b33023bb28b2",
   "metadata": {},
   "outputs": [],
   "source": [
    "#Import packages\n",
    "import numpy as np\n",
    "from scipy.stats import norm\n",
    "import pandas as pd\n",
    "import scipy\n",
    "import matplotlib.pyplot as plt\n",
    "import random"
   ]
  },
  {
   "cell_type": "markdown",
   "id": "5dee5d0d-8166-4cd8-bc9e-c05015ca704b",
   "metadata": {},
   "source": [
    "## Data Import"
   ]
  },
  {
   "cell_type": "code",
   "execution_count": 11,
   "id": "868eae44-a7eb-41af-99e8-a96acb335f48",
   "metadata": {},
   "outputs": [],
   "source": [
    "pnl = pd.read_csv('pnl.csv')\n",
    "eloranks = pnl"
   ]
  },
  {
   "cell_type": "markdown",
   "id": "228b1784-c8fd-4aa8-8969-3639f42e7c14",
   "metadata": {},
   "source": [
    "## Set Tiers"
   ]
  },
  {
   "cell_type": "code",
   "execution_count": 5,
   "id": "ccd5dc25-779f-431e-b455-ecf867cf298f",
   "metadata": {},
   "outputs": [],
   "source": [
    "def tiers(eloranks):\n",
    "    tier1 = eloranks.head(34).reset_index(drop=True)\n",
    "    eloranks = eloranks.tail(100)\n",
    "    \n",
    "    tier2 = eloranks.head(34).reset_index(drop=True)\n",
    "    eloranks = eloranks.tail(66)\n",
    "    \n",
    "    tier3 = eloranks.head(34).reset_index(drop=True)\n",
    "    eloranks = eloranks.tail(32)\n",
    "    \n",
    "    tier4 = eloranks.head(32).reset_index(drop=True)\n",
    "    \n",
    "    # Return tiers as a dictionary\n",
    "    return {\n",
    "        \"tier1\": tier1,\n",
    "        \"tier2\": tier2,\n",
    "        \"tier3\": tier3,\n",
    "        \"tier4\": tier4\n",
    "    }\n",
    "\n",
    "# Calling the function and accessing tiers individually\n",
    "tiers_dict = tiers(eloranks)\n",
    "tier1 = tiers_dict[\"tier1\"]\n",
    "tier2 = tiers_dict[\"tier2\"]\n",
    "tier3 = tiers_dict[\"tier3\"]\n",
    "tier4 = tiers_dict[\"tier4\"]"
   ]
  },
  {
   "cell_type": "markdown",
   "id": "5d87773e-25b6-47b0-bb72-06c74d9efe81",
   "metadata": {},
   "source": [
    "## Resets season results to pnl format so that they can be reassigned by tiers function and antoher season can simulate"
   ]
  },
  {
   "cell_type": "code",
   "execution_count": 6,
   "id": "bbea1421-442b-4164-87fa-d0215e3d8107",
   "metadata": {},
   "outputs": [],
   "source": [
    "def sortelo(cfb24):\n",
    "    #rank by elo\n",
    "    pre25 = cfb24.sort_values(by='Week 12 ELO', ascending=False)\n",
    "    #rename old columns\n",
    "    pre25 = pre25.rename(columns={'Week 12 ELO': 'ELO'})\n",
    "    #drop uneccesary columns\n",
    "    pre25 = pre25.drop(columns=['Starting ELO', 'Week 12 Rank','Starting Rank','Wins','Losses','Tier'])\n",
    "    #reset index\n",
    "    pre25.reset_index(drop=True, inplace=True)\n",
    "    \n",
    "    preseason = pre25\n",
    "    \n",
    "    return preseason"
   ]
  },
  {
   "cell_type": "markdown",
   "id": "e07fd2e5-71e7-4f96-8581-2881fde01bb2",
   "metadata": {},
   "source": [
    "## Sims Games"
   ]
  },
  {
   "cell_type": "code",
   "execution_count": 27,
   "id": "8120aee4-2d4c-4a5c-b6c4-e092c87ea78f",
   "metadata": {
    "tags": []
   },
   "outputs": [],
   "source": [
    "def simgame(team1, home_rating, team2, away_rating):\n",
    "    # finds expected win percentage\n",
    "    def get_expected_score(home_rating, away_rating):\n",
    "        exp = (away_rating - home_rating + (globals().get(\"home_boost\"))) / 400\n",
    "        return 1 / (1 + 10**exp)\n",
    "\n",
    "    # Calculate win probability for team1\n",
    "    wp = get_expected_score(home_rating, away_rating) * 1000\n",
    "    # Generate random number and simulate game outcome\n",
    "    rn = random.uniform(0, 1000)\n",
    "    rn1 = random.uniform(0, 5)\n",
    "    rthing = globals().get(\"randomness\")\n",
    "    #margin = 1 if rn <= wp else 0\n",
    "    margin = 1 if rn <= wp + rthing else 0\n",
    "    \n",
    "    # 1 if team1 wins, else 0\n",
    "\n",
    "    # Determine the winner\n",
    "    winner = team1 if margin == 1 else team2\n",
    "\n",
    "    # Calculate new ELOs\n",
    "    def get_new_elos(home_rating, away_rating, margin):\n",
    "        \n",
    "        k = globals().get(\"k_value\")\n",
    "        #k = 85\n",
    "        home_score = margin\n",
    "        away_score = 1 - home_score\n",
    "\n",
    "        new_home_score = home_rating + k * (home_score - get_expected_score(home_rating, away_rating))\n",
    "        new_away_score = away_rating + k * (away_score - get_expected_score(away_rating, home_rating))\n",
    "\n",
    "        return round(new_home_score), round(new_away_score)\n",
    "\n",
    "    new_home_elo, new_away_elo = get_new_elos(home_rating, away_rating, margin)\n",
    "\n",
    "    return winner, new_home_elo, new_away_elo"
   ]
  },
  {
   "cell_type": "markdown",
   "id": "c0ef6879-6d24-43bd-a7fa-6b4f52976900",
   "metadata": {},
   "source": [
    "## Sims games using altered k values"
   ]
  },
  {
   "cell_type": "markdown",
   "id": "1192670e-f96f-420c-8ed4-690d1faec7f8",
   "metadata": {},
   "source": [
    "## Sims Season"
   ]
  },
  {
   "cell_type": "code",
   "execution_count": 28,
   "id": "5aae7b2a-2f00-454f-9b94-cc17b6d207c1",
   "metadata": {},
   "outputs": [
    {
     "ename": "TypeError",
     "evalue": "unsupported operand type(s) for +: 'float' and 'NoneType'",
     "output_type": "error",
     "traceback": [
      "\u001b[0;31m---------------------------------------------------------------------------\u001b[0m",
      "\u001b[0;31mTypeError\u001b[0m                                 Traceback (most recent call last)",
      "Input \u001b[0;32mIn [28]\u001b[0m, in \u001b[0;36m<cell line: 82>\u001b[0;34m()\u001b[0m\n\u001b[1;32m     77\u001b[0m     matchup_df \u001b[38;5;241m=\u001b[39m pd\u001b[38;5;241m.\u001b[39mDataFrame(matchup_results)\n\u001b[1;32m     79\u001b[0m     \u001b[38;5;28;01mreturn\u001b[39;00m final_results, matchup_df\n\u001b[0;32m---> 82\u001b[0m final_results, matchup_df \u001b[38;5;241m=\u001b[39m \u001b[43msimulate_season\u001b[49m\u001b[43m(\u001b[49m\u001b[43mtier1\u001b[49m\u001b[43m)\u001b[49m\n",
      "Input \u001b[0;32mIn [28]\u001b[0m, in \u001b[0;36msimulate_season\u001b[0;34m(tier1)\u001b[0m\n\u001b[1;32m     38\u001b[0m away_rating \u001b[38;5;241m=\u001b[39m results\u001b[38;5;241m.\u001b[39mloc[away_index, \u001b[38;5;124m'\u001b[39m\u001b[38;5;124mCurrent ELO\u001b[39m\u001b[38;5;124m'\u001b[39m]\n\u001b[1;32m     40\u001b[0m \u001b[38;5;66;03m# Simulate the game and determine the winner\u001b[39;00m\n\u001b[0;32m---> 41\u001b[0m winner, new_home_elo, new_away_elo \u001b[38;5;241m=\u001b[39m \u001b[43msimgame\u001b[49m\u001b[43m(\u001b[49m\u001b[43mhome_team\u001b[49m\u001b[43m,\u001b[49m\u001b[43m \u001b[49m\u001b[43mhome_rating\u001b[49m\u001b[43m,\u001b[49m\u001b[43m \u001b[49m\u001b[43maway_team\u001b[49m\u001b[43m,\u001b[49m\u001b[43m \u001b[49m\u001b[43maway_rating\u001b[49m\u001b[43m)\u001b[49m\n\u001b[1;32m     43\u001b[0m \u001b[38;5;66;03m# Update Wins and Losses\u001b[39;00m\n\u001b[1;32m     44\u001b[0m \u001b[38;5;28;01mif\u001b[39;00m winner \u001b[38;5;241m==\u001b[39m home_team:\n",
      "Input \u001b[0;32mIn [27]\u001b[0m, in \u001b[0;36msimgame\u001b[0;34m(team1, home_rating, team2, away_rating)\u001b[0m\n\u001b[1;32m      5\u001b[0m     \u001b[38;5;28;01mreturn\u001b[39;00m \u001b[38;5;241m1\u001b[39m \u001b[38;5;241m/\u001b[39m (\u001b[38;5;241m1\u001b[39m \u001b[38;5;241m+\u001b[39m \u001b[38;5;241m10\u001b[39m\u001b[38;5;241m*\u001b[39m\u001b[38;5;241m*\u001b[39mexp)\n\u001b[1;32m      7\u001b[0m \u001b[38;5;66;03m# Calculate win probability for team1\u001b[39;00m\n\u001b[0;32m----> 8\u001b[0m wp \u001b[38;5;241m=\u001b[39m \u001b[43mget_expected_score\u001b[49m\u001b[43m(\u001b[49m\u001b[43mhome_rating\u001b[49m\u001b[43m,\u001b[49m\u001b[43m \u001b[49m\u001b[43maway_rating\u001b[49m\u001b[43m)\u001b[49m \u001b[38;5;241m*\u001b[39m \u001b[38;5;241m1000\u001b[39m\n\u001b[1;32m      9\u001b[0m \u001b[38;5;66;03m# Generate random number and simulate game outcome\u001b[39;00m\n\u001b[1;32m     10\u001b[0m rn \u001b[38;5;241m=\u001b[39m random\u001b[38;5;241m.\u001b[39muniform(\u001b[38;5;241m0\u001b[39m, \u001b[38;5;241m1000\u001b[39m)\n",
      "Input \u001b[0;32mIn [27]\u001b[0m, in \u001b[0;36msimgame.<locals>.get_expected_score\u001b[0;34m(home_rating, away_rating)\u001b[0m\n\u001b[1;32m      3\u001b[0m \u001b[38;5;28;01mdef\u001b[39;00m \u001b[38;5;21mget_expected_score\u001b[39m(home_rating, away_rating):\n\u001b[0;32m----> 4\u001b[0m     exp \u001b[38;5;241m=\u001b[39m (\u001b[43maway_rating\u001b[49m\u001b[43m \u001b[49m\u001b[38;5;241;43m-\u001b[39;49m\u001b[43m \u001b[49m\u001b[43mhome_rating\u001b[49m\u001b[43m \u001b[49m\u001b[38;5;241;43m+\u001b[39;49m\u001b[43m \u001b[49m\u001b[43m(\u001b[49m\u001b[38;5;28;43mglobals\u001b[39;49m\u001b[43m(\u001b[49m\u001b[43m)\u001b[49m\u001b[38;5;241;43m.\u001b[39;49m\u001b[43mget\u001b[49m\u001b[43m(\u001b[49m\u001b[38;5;124;43m\"\u001b[39;49m\u001b[38;5;124;43mhome_boost\u001b[39;49m\u001b[38;5;124;43m\"\u001b[39;49m\u001b[43m)\u001b[49m\u001b[43m)\u001b[49m) \u001b[38;5;241m/\u001b[39m \u001b[38;5;241m400\u001b[39m\n\u001b[1;32m      5\u001b[0m     \u001b[38;5;28;01mreturn\u001b[39;00m \u001b[38;5;241m1\u001b[39m \u001b[38;5;241m/\u001b[39m (\u001b[38;5;241m1\u001b[39m \u001b[38;5;241m+\u001b[39m \u001b[38;5;241m10\u001b[39m\u001b[38;5;241m*\u001b[39m\u001b[38;5;241m*\u001b[39mexp)\n",
      "\u001b[0;31mTypeError\u001b[0m: unsupported operand type(s) for +: 'float' and 'NoneType'"
     ]
    }
   ],
   "source": [
    "def simulate_season(tier1):\n",
    "    # Initialize the results DataFrame\n",
    "    results = pd.DataFrame({\n",
    "        'Team': tier1['Team'],\n",
    "        'Wins': 0,\n",
    "        'Losses': 0,\n",
    "        'Starting ELO': tier1['ELO'],\n",
    "        'Current ELO': tier1['ELO'],\n",
    "        'Starting Rank': tier1['ELO'].rank(ascending=False, method='min').astype(int),\n",
    "        'Home Games': 0,  # New column to count home games\n",
    "        'Away Games': 0   # New column to count away games\n",
    "    })\n",
    "\n",
    "    # Prepare list to collect each week's matchups\n",
    "    matchup_results = []\n",
    "\n",
    "    # Simulate 12 weeks\n",
    "    for week in range(12):\n",
    "        # Rank teams based on their current Elo for matchups\n",
    "        results['Current Rank'] = results['Current ELO'].rank(ascending=False, method='min').astype(int)\n",
    "        results = results.sort_values(by='Current Rank').reset_index(drop=True)\n",
    "\n",
    "        # Pair up teams based on ranking and simulate games\n",
    "        for i in range(0, len(results), 2):\n",
    "            if i + 1 < len(results):  # Ensure there's a team to pair with\n",
    "                team1 = results.iloc[i]['Team']\n",
    "                team2 = results.iloc[i + 1]['Team']\n",
    "                \n",
    "                # Determine home and away based on the number of home games each team has played\n",
    "                if results.loc[i, 'Home Games'] < 6:\n",
    "                    home_team, away_team = team1, team2\n",
    "                    home_index, away_index = i, i + 1\n",
    "                else:\n",
    "                    home_team, away_team = team2, team1\n",
    "                    home_index, away_index = i + 1, i\n",
    "\n",
    "                home_rating = results.loc[home_index, 'Current ELO']\n",
    "                away_rating = results.loc[away_index, 'Current ELO']\n",
    "\n",
    "                # Simulate the game and determine the winner\n",
    "                winner, new_home_elo, new_away_elo = simgame(home_team, home_rating, away_team, away_rating)\n",
    "\n",
    "                # Update Wins and Losses\n",
    "                if winner == home_team:\n",
    "                    results.loc[home_index, 'Wins'] += 1\n",
    "                    results.loc[away_index, 'Losses'] += 1\n",
    "                else:\n",
    "                    results.loc[home_index, 'Losses'] += 1\n",
    "                    results.loc[away_index, 'Wins'] += 1\n",
    "\n",
    "                # Update ELOs for both teams\n",
    "                results.loc[home_index, 'Current ELO'] = new_home_elo\n",
    "                results.loc[away_index, 'Current ELO'] = new_away_elo\n",
    "\n",
    "                # Update home and away game counts\n",
    "                results.loc[home_index, 'Home Games'] += 1\n",
    "                results.loc[away_index, 'Away Games'] += 1\n",
    "\n",
    "                # Record the matchup and result\n",
    "                matchup_results.append({\n",
    "                    'Week': week + 1,\n",
    "                    'Matchup': f\"{home_team} (Home) vs {away_team} (Away)\",\n",
    "                    'Winning Team': winner,\n",
    "                    'Home Team ELO Before': home_rating,\n",
    "                    'Away Team ELO Before': away_rating,\n",
    "                    'CBR': abs(home_rating - away_rating)\n",
    "                })\n",
    "\n",
    "    # Add final ELO and ranking columns\n",
    "    results['Week 12 ELO'] = results['Current ELO']\n",
    "    results['Week 12 Rank'] = results['Current ELO'].rank(ascending=False, method='min').astype(int)\n",
    "\n",
    "    # Final results DataFrame\n",
    "    final_results = results[['Team', 'Wins', 'Losses', 'Starting ELO', 'Week 12 ELO', 'Starting Rank', 'Week 12 Rank', 'Home Games', 'Away Games']]\n",
    "\n",
    "    # Matchup results DataFrame\n",
    "    matchup_df = pd.DataFrame(matchup_results)\n",
    "\n",
    "    return final_results, matchup_df\n",
    "\n",
    "\n",
    "final_results, matchup_df = simulate_season(tier1)\n",
    "\n"
   ]
  }
 ],
 "metadata": {
  "kernelspec": {
   "display_name": "Python 3 (ipykernel)",
   "language": "python",
   "name": "python3"
  },
  "language_info": {
   "codemirror_mode": {
    "name": "ipython",
    "version": 3
   },
   "file_extension": ".py",
   "mimetype": "text/x-python",
   "name": "python",
   "nbconvert_exporter": "python",
   "pygments_lexer": "ipython3",
   "version": "3.9.12"
  }
 },
 "nbformat": 4,
 "nbformat_minor": 5
}
